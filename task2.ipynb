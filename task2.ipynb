{
 "cells": [
  {
   "cell_type": "code",
   "execution_count": 15,
   "metadata": {},
   "outputs": [
    {
     "name": "stdout",
     "output_type": "stream",
     "text": [
      "Enter a number: 25\n",
      "Enter a number: 5\n",
      "Enter an operation '+','-', '*' or '/': /\n",
      "5.0\n"
     ]
    }
   ],
   "source": [
    "x = int(input(\"Enter a number: \"))\n",
    "y = int(input(\"Enter a number: \"))\n",
    "z = input(\"Enter an operation '+','-', '*' or '/': \")\n",
    "\n",
    "if y == 0 and z ==\"/\":\n",
    "    print(\"Can't divide by zero\")\n",
    "else:\n",
    "    if z == \"+\":\n",
    "        print(x+y)\n",
    "    elif z == \"-\":\n",
    "        print(x-y)\n",
    "    elif z == \"/\":\n",
    "        print(x/y)\n",
    "    elif z == \"*\":\n",
    "        print(x*y)"
   ]
  },
  {
   "cell_type": "code",
   "execution_count": null,
   "metadata": {},
   "outputs": [],
   "source": []
  }
 ],
 "metadata": {
  "kernelspec": {
   "display_name": "Python 3",
   "language": "python",
   "name": "python3"
  },
  "language_info": {
   "codemirror_mode": {
    "name": "ipython",
    "version": 3
   },
   "file_extension": ".py",
   "mimetype": "text/x-python",
   "name": "python",
   "nbconvert_exporter": "python",
   "pygments_lexer": "ipython3",
   "version": "3.7.3"
  }
 },
 "nbformat": 4,
 "nbformat_minor": 2
}
